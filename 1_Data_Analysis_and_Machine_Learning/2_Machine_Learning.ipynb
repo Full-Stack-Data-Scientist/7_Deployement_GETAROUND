{
 "cells": [
  {
   "cell_type": "markdown",
   "metadata": {},
   "source": [
    "__`NOTEBOOK START`__"
   ]
  },
  {
   "cell_type": "code",
   "execution_count": 102,
   "metadata": {},
   "outputs": [
    {
     "name": "stdout",
     "output_type": "stream",
     "text": [
      ">>>> 📚 Importing librairies...\n",
      ">>>> ✅ ...Done\n"
     ]
    }
   ],
   "source": [
    "print('>>>> 📚 Importing librairies...')\n",
    "\n",
    "import pandas as pd\n",
    "\n",
    "from sklearn.model_selection import train_test_split, GridSearchCV, cross_val_score\n",
    "from sklearn.pipeline import Pipeline\n",
    "from sklearn.preprocessing import  OneHotEncoder, StandardScaler\n",
    "from sklearn.compose import ColumnTransformer\n",
    "from sklearn.linear_model import LinearRegression, Ridge, Lasso\n",
    "from sklearn.metrics import mean_squared_error, r2_score\n",
    "\n",
    "import plotly.graph_objs as go\n",
    "\n",
    "import joblib\n",
    "print('>>>> ✅ ...Done')"
   ]
  },
  {
   "cell_type": "markdown",
   "metadata": {},
   "source": [
    "---------\n",
    "### __1. Data Preprocessing__\n",
    "---------"
   ]
  },
  {
   "cell_type": "code",
   "execution_count": 103,
   "metadata": {},
   "outputs": [
    {
     "name": "stdout",
     "output_type": "stream",
     "text": [
      ">>>> 📊 Loading dataset...\n",
      ">>>> ✅ ...Done\n",
      "\n"
     ]
    }
   ],
   "source": [
    "print('>>>> 📊 Loading dataset...')\n",
    "df_price = pd.read_pickle('price_analysis_df_clean.csv')\n",
    "print('>>>> ✅ ...Done')\n",
    "print()"
   ]
  },
  {
   "cell_type": "markdown",
   "metadata": {},
   "source": [
    "### Separating the target variable from features"
   ]
  },
  {
   "cell_type": "code",
   "execution_count": 104,
   "metadata": {},
   "outputs": [
    {
     "name": "stdout",
     "output_type": "stream",
     "text": [
      ">>>> 💔 Separating labels from features...\n",
      "--------------------------------\n",
      "Target Value (Y): rental_price_per_day\n"
     ]
    },
    {
     "data": {
      "text/plain": [
       "0    106\n",
       "2    101\n",
       "3    158\n",
       "4    183\n",
       "5    131\n",
       "Name: rental_price_per_day, dtype: int64"
      ]
     },
     "metadata": {},
     "output_type": "display_data"
    },
    {
     "name": "stdout",
     "output_type": "stream",
     "text": [
      "--------------------------------\n",
      "Features Values (X):\n"
     ]
    },
    {
     "data": {
      "text/html": [
       "<div>\n",
       "<style scoped>\n",
       "    .dataframe tbody tr th:only-of-type {\n",
       "        vertical-align: middle;\n",
       "    }\n",
       "\n",
       "    .dataframe tbody tr th {\n",
       "        vertical-align: top;\n",
       "    }\n",
       "\n",
       "    .dataframe thead th {\n",
       "        text-align: right;\n",
       "    }\n",
       "</style>\n",
       "<table border=\"1\" class=\"dataframe\">\n",
       "  <thead>\n",
       "    <tr style=\"text-align: right;\">\n",
       "      <th></th>\n",
       "      <th>model_key</th>\n",
       "      <th>mileage</th>\n",
       "      <th>engine_power</th>\n",
       "      <th>fuel</th>\n",
       "      <th>paint_color</th>\n",
       "      <th>car_type</th>\n",
       "      <th>private_parking_available</th>\n",
       "      <th>has_gps</th>\n",
       "      <th>has_air_conditioning</th>\n",
       "      <th>automatic_car</th>\n",
       "      <th>has_getaround_connect</th>\n",
       "      <th>has_speed_regulator</th>\n",
       "      <th>winter_tires</th>\n",
       "    </tr>\n",
       "  </thead>\n",
       "  <tbody>\n",
       "    <tr>\n",
       "      <th>0</th>\n",
       "      <td>Citroën</td>\n",
       "      <td>140411</td>\n",
       "      <td>100</td>\n",
       "      <td>diesel</td>\n",
       "      <td>black</td>\n",
       "      <td>convertible</td>\n",
       "      <td>True</td>\n",
       "      <td>True</td>\n",
       "      <td>False</td>\n",
       "      <td>False</td>\n",
       "      <td>True</td>\n",
       "      <td>True</td>\n",
       "      <td>True</td>\n",
       "    </tr>\n",
       "    <tr>\n",
       "      <th>2</th>\n",
       "      <td>Citroën</td>\n",
       "      <td>183297</td>\n",
       "      <td>120</td>\n",
       "      <td>diesel</td>\n",
       "      <td>white</td>\n",
       "      <td>convertible</td>\n",
       "      <td>False</td>\n",
       "      <td>False</td>\n",
       "      <td>False</td>\n",
       "      <td>False</td>\n",
       "      <td>True</td>\n",
       "      <td>False</td>\n",
       "      <td>True</td>\n",
       "    </tr>\n",
       "    <tr>\n",
       "      <th>3</th>\n",
       "      <td>Citroën</td>\n",
       "      <td>128035</td>\n",
       "      <td>135</td>\n",
       "      <td>diesel</td>\n",
       "      <td>red</td>\n",
       "      <td>convertible</td>\n",
       "      <td>True</td>\n",
       "      <td>True</td>\n",
       "      <td>False</td>\n",
       "      <td>False</td>\n",
       "      <td>True</td>\n",
       "      <td>True</td>\n",
       "      <td>True</td>\n",
       "    </tr>\n",
       "    <tr>\n",
       "      <th>4</th>\n",
       "      <td>Citroën</td>\n",
       "      <td>97097</td>\n",
       "      <td>160</td>\n",
       "      <td>diesel</td>\n",
       "      <td>silver</td>\n",
       "      <td>convertible</td>\n",
       "      <td>True</td>\n",
       "      <td>True</td>\n",
       "      <td>False</td>\n",
       "      <td>False</td>\n",
       "      <td>False</td>\n",
       "      <td>True</td>\n",
       "      <td>True</td>\n",
       "    </tr>\n",
       "    <tr>\n",
       "      <th>5</th>\n",
       "      <td>Citroën</td>\n",
       "      <td>152352</td>\n",
       "      <td>225</td>\n",
       "      <td>petrol</td>\n",
       "      <td>black</td>\n",
       "      <td>convertible</td>\n",
       "      <td>True</td>\n",
       "      <td>True</td>\n",
       "      <td>False</td>\n",
       "      <td>False</td>\n",
       "      <td>True</td>\n",
       "      <td>True</td>\n",
       "      <td>True</td>\n",
       "    </tr>\n",
       "  </tbody>\n",
       "</table>\n",
       "</div>"
      ],
      "text/plain": [
       "  model_key  mileage  engine_power    fuel paint_color     car_type  \\\n",
       "0   Citroën   140411           100  diesel       black  convertible   \n",
       "2   Citroën   183297           120  diesel       white  convertible   \n",
       "3   Citroën   128035           135  diesel         red  convertible   \n",
       "4   Citroën    97097           160  diesel      silver  convertible   \n",
       "5   Citroën   152352           225  petrol       black  convertible   \n",
       "\n",
       "   private_parking_available  has_gps  has_air_conditioning  automatic_car  \\\n",
       "0                       True     True                 False          False   \n",
       "2                      False    False                 False          False   \n",
       "3                       True     True                 False          False   \n",
       "4                       True     True                 False          False   \n",
       "5                       True     True                 False          False   \n",
       "\n",
       "   has_getaround_connect  has_speed_regulator  winter_tires  \n",
       "0                   True                 True          True  \n",
       "2                   True                False          True  \n",
       "3                   True                 True          True  \n",
       "4                  False                 True          True  \n",
       "5                   True                 True          True  "
      ]
     },
     "metadata": {},
     "output_type": "display_data"
    },
    {
     "name": "stdout",
     "output_type": "stream",
     "text": [
      ">>>> ✅ ...Done\n"
     ]
    }
   ],
   "source": [
    "# Separate target variable Y from features X\n",
    "target_name = 'rental_price_per_day'\n",
    "\n",
    "print('>>>> 💔 Separating labels from features...')\n",
    "Y = df_price.loc[:,target_name]\n",
    "X = df_price.drop(target_name, axis = 1) # All columns are kept, except the target\n",
    "print('--------------------------------')\n",
    "print ('Target Value (Y): rental_price_per_day')\n",
    "display(Y.head())\n",
    "print('--------------------------------')\n",
    "print ('Features Values (X):')\n",
    "display(X.head())\n",
    "print('>>>> ✅ ...Done')\n"
   ]
  },
  {
   "cell_type": "markdown",
   "metadata": {},
   "source": [
    "### Preprocessing pipelines"
   ]
  },
  {
   "cell_type": "code",
   "execution_count": 105,
   "metadata": {},
   "outputs": [
    {
     "name": "stdout",
     "output_type": "stream",
     "text": [
      ">>>> 🟨 Dividing into train and test sets...\n",
      ">>>> ✅ ...Done\n"
     ]
    }
   ],
   "source": [
    "# First : always divide dataset into train set & test set !!\n",
    "print('>>>> 🟨 Dividing into train and test sets...')\n",
    "\n",
    "X_train, X_test, Y_train, Y_test = train_test_split(X, Y, test_size=0.2, random_state=0)\n",
    "# test_size indicates the proportion of rows from X and Y that will go into the test dataset while \n",
    "# maintaining the correspondance between the rows from X and Y \n",
    "# random_state is given a value the results will be the same everytime the cell runs\n",
    "\n",
    "print('>>>> ✅ ...Done')"
   ]
  },
  {
   "cell_type": "code",
   "execution_count": 106,
   "metadata": {},
   "outputs": [
    {
     "name": "stdout",
     "output_type": "stream",
     "text": [
      ">>>> 🟨 Creating pipeline for numeric features...\n",
      ">>>> ✅ ...Done\n"
     ]
    }
   ],
   "source": [
    "print('>>>> 🟨 Creating pipeline for numeric features...')\n",
    "\n",
    "numeric_features = ['mileage', 'engine_power'] # Names of numeric columns in X_train/X_test\n",
    "\n",
    "numeric_transformer = Pipeline(steps=[\n",
    "    ('scaler', StandardScaler())\n",
    "])\n",
    "\n",
    "print('>>>> ✅ ...Done')"
   ]
  },
  {
   "cell_type": "code",
   "execution_count": 107,
   "metadata": {},
   "outputs": [
    {
     "name": "stdout",
     "output_type": "stream",
     "text": [
      ">>>> 🟨 Creating pipeline for categorical features...\n",
      ">>>> ✅ ...Done\n"
     ]
    }
   ],
   "source": [
    "print('>>>> 🟨 Creating pipeline for categorical features...')\n",
    "\n",
    "categorical_features = ['model_key', 'fuel', 'paint_color', 'car_type', \n",
    "                        'private_parking_available', 'has_gps', 'has_air_conditioning', \n",
    "                        'automatic_car', 'has_getaround_connect', 'has_speed_regulator', 'winter_tires'] # Names of categorical columns in X_train/X_test\n",
    "\n",
    "categorical_transformer = Pipeline(\n",
    "    steps=[\n",
    "    ('encoder', OneHotEncoder(drop='first')) # first column will be dropped to avoid creating correlations between features\n",
    "    ])\n",
    "\n",
    "print('>>>> ✅ ...Done')"
   ]
  },
  {
   "cell_type": "code",
   "execution_count": 108,
   "metadata": {},
   "outputs": [],
   "source": [
    "# Use ColumnTransformer to make a preprocessor object that describes all the treatments to be done\n",
    "preprocessor = ColumnTransformer(\n",
    "    transformers=[\n",
    "        ('num', numeric_transformer, numeric_features),\n",
    "        ('cat', categorical_transformer, categorical_features)\n",
    "    ])"
   ]
  },
  {
   "cell_type": "code",
   "execution_count": 109,
   "metadata": {},
   "outputs": [
    {
     "name": "stdout",
     "output_type": "stream",
     "text": [
      "\n",
      ">>>> 🟨 Performing preprocessings on train set...\n",
      "\n"
     ]
    },
    {
     "data": {
      "text/html": [
       "<div>\n",
       "<style scoped>\n",
       "    .dataframe tbody tr th:only-of-type {\n",
       "        vertical-align: middle;\n",
       "    }\n",
       "\n",
       "    .dataframe tbody tr th {\n",
       "        vertical-align: top;\n",
       "    }\n",
       "\n",
       "    .dataframe thead th {\n",
       "        text-align: right;\n",
       "    }\n",
       "</style>\n",
       "<table border=\"1\" class=\"dataframe\">\n",
       "  <thead>\n",
       "    <tr style=\"text-align: right;\">\n",
       "      <th></th>\n",
       "      <th>model_key</th>\n",
       "      <th>mileage</th>\n",
       "      <th>engine_power</th>\n",
       "      <th>fuel</th>\n",
       "      <th>paint_color</th>\n",
       "      <th>car_type</th>\n",
       "      <th>private_parking_available</th>\n",
       "      <th>has_gps</th>\n",
       "      <th>has_air_conditioning</th>\n",
       "      <th>automatic_car</th>\n",
       "      <th>has_getaround_connect</th>\n",
       "      <th>has_speed_regulator</th>\n",
       "      <th>winter_tires</th>\n",
       "    </tr>\n",
       "  </thead>\n",
       "  <tbody>\n",
       "    <tr>\n",
       "      <th>362</th>\n",
       "      <td>Renault</td>\n",
       "      <td>123353</td>\n",
       "      <td>135</td>\n",
       "      <td>diesel</td>\n",
       "      <td>silver</td>\n",
       "      <td>estate</td>\n",
       "      <td>False</td>\n",
       "      <td>True</td>\n",
       "      <td>False</td>\n",
       "      <td>False</td>\n",
       "      <td>True</td>\n",
       "      <td>False</td>\n",
       "      <td>True</td>\n",
       "    </tr>\n",
       "    <tr>\n",
       "      <th>1427</th>\n",
       "      <td>Peugeot</td>\n",
       "      <td>230784</td>\n",
       "      <td>100</td>\n",
       "      <td>diesel</td>\n",
       "      <td>black</td>\n",
       "      <td>estate</td>\n",
       "      <td>False</td>\n",
       "      <td>False</td>\n",
       "      <td>False</td>\n",
       "      <td>False</td>\n",
       "      <td>True</td>\n",
       "      <td>False</td>\n",
       "      <td>True</td>\n",
       "    </tr>\n",
       "    <tr>\n",
       "      <th>442</th>\n",
       "      <td>Peugeot</td>\n",
       "      <td>126591</td>\n",
       "      <td>105</td>\n",
       "      <td>diesel</td>\n",
       "      <td>black</td>\n",
       "      <td>estate</td>\n",
       "      <td>False</td>\n",
       "      <td>True</td>\n",
       "      <td>False</td>\n",
       "      <td>False</td>\n",
       "      <td>False</td>\n",
       "      <td>False</td>\n",
       "      <td>True</td>\n",
       "    </tr>\n",
       "    <tr>\n",
       "      <th>4740</th>\n",
       "      <td>Mitsubishi</td>\n",
       "      <td>195769</td>\n",
       "      <td>173</td>\n",
       "      <td>diesel</td>\n",
       "      <td>black</td>\n",
       "      <td>suv</td>\n",
       "      <td>True</td>\n",
       "      <td>True</td>\n",
       "      <td>False</td>\n",
       "      <td>False</td>\n",
       "      <td>True</td>\n",
       "      <td>False</td>\n",
       "      <td>True</td>\n",
       "    </tr>\n",
       "    <tr>\n",
       "      <th>4377</th>\n",
       "      <td>BMW</td>\n",
       "      <td>113722</td>\n",
       "      <td>120</td>\n",
       "      <td>diesel</td>\n",
       "      <td>silver</td>\n",
       "      <td>suv</td>\n",
       "      <td>True</td>\n",
       "      <td>True</td>\n",
       "      <td>False</td>\n",
       "      <td>True</td>\n",
       "      <td>True</td>\n",
       "      <td>False</td>\n",
       "      <td>True</td>\n",
       "    </tr>\n",
       "  </tbody>\n",
       "</table>\n",
       "</div>"
      ],
      "text/plain": [
       "       model_key  mileage  engine_power    fuel paint_color car_type  \\\n",
       "362      Renault   123353           135  diesel      silver   estate   \n",
       "1427     Peugeot   230784           100  diesel       black   estate   \n",
       "442      Peugeot   126591           105  diesel       black   estate   \n",
       "4740  Mitsubishi   195769           173  diesel       black      suv   \n",
       "4377         BMW   113722           120  diesel      silver      suv   \n",
       "\n",
       "      private_parking_available  has_gps  has_air_conditioning  automatic_car  \\\n",
       "362                       False     True                 False          False   \n",
       "1427                      False    False                 False          False   \n",
       "442                       False     True                 False          False   \n",
       "4740                       True     True                 False          False   \n",
       "4377                       True     True                 False           True   \n",
       "\n",
       "      has_getaround_connect  has_speed_regulator  winter_tires  \n",
       "362                    True                False          True  \n",
       "1427                   True                False          True  \n",
       "442                   False                False          True  \n",
       "4740                   True                False          True  \n",
       "4377                   True                False          True  "
      ]
     },
     "metadata": {},
     "output_type": "display_data"
    },
    {
     "name": "stdout",
     "output_type": "stream",
     "text": [
      "\n",
      "Preprocessings on train set result: \n"
     ]
    },
    {
     "data": {
      "text/plain": [
       "<5x41 sparse matrix of type '<class 'numpy.float64'>'\n",
       "\twith 41 stored elements in Compressed Sparse Row format>"
      ]
     },
     "metadata": {},
     "output_type": "display_data"
    },
    {
     "name": "stdout",
     "output_type": "stream",
     "text": [
      "\n",
      ">>>> ✅ ...Done\n"
     ]
    }
   ],
   "source": [
    "# Preprocessings on train set\n",
    "print()\n",
    "print('>>>> 🟨 Performing preprocessings on train set...')\n",
    "print()\n",
    "display(X_train.head())\n",
    "print()\n",
    "\n",
    "print('Preprocessings on train set result: ')\n",
    "X_train = preprocessor.fit_transform(X_train)\n",
    "display(X_train[0:5]) # must use this syntax because X_train is a numpy array and not a pandas DataFrame anymore\n",
    "print()\n",
    "print('>>>> ✅ ...Done')"
   ]
  },
  {
   "cell_type": "code",
   "execution_count": 110,
   "metadata": {},
   "outputs": [
    {
     "name": "stdout",
     "output_type": "stream",
     "text": [
      "\n",
      ">>>> 🟨 Performing preprocessings on test set...\n",
      "\n"
     ]
    },
    {
     "data": {
      "text/html": [
       "<div>\n",
       "<style scoped>\n",
       "    .dataframe tbody tr th:only-of-type {\n",
       "        vertical-align: middle;\n",
       "    }\n",
       "\n",
       "    .dataframe tbody tr th {\n",
       "        vertical-align: top;\n",
       "    }\n",
       "\n",
       "    .dataframe thead th {\n",
       "        text-align: right;\n",
       "    }\n",
       "</style>\n",
       "<table border=\"1\" class=\"dataframe\">\n",
       "  <thead>\n",
       "    <tr style=\"text-align: right;\">\n",
       "      <th></th>\n",
       "      <th>model_key</th>\n",
       "      <th>mileage</th>\n",
       "      <th>engine_power</th>\n",
       "      <th>fuel</th>\n",
       "      <th>paint_color</th>\n",
       "      <th>car_type</th>\n",
       "      <th>private_parking_available</th>\n",
       "      <th>has_gps</th>\n",
       "      <th>has_air_conditioning</th>\n",
       "      <th>automatic_car</th>\n",
       "      <th>has_getaround_connect</th>\n",
       "      <th>has_speed_regulator</th>\n",
       "      <th>winter_tires</th>\n",
       "    </tr>\n",
       "  </thead>\n",
       "  <tbody>\n",
       "    <tr>\n",
       "      <th>3957</th>\n",
       "      <td>BMW</td>\n",
       "      <td>152889</td>\n",
       "      <td>140</td>\n",
       "      <td>diesel</td>\n",
       "      <td>white</td>\n",
       "      <td>suv</td>\n",
       "      <td>False</td>\n",
       "      <td>False</td>\n",
       "      <td>False</td>\n",
       "      <td>False</td>\n",
       "      <td>False</td>\n",
       "      <td>False</td>\n",
       "      <td>False</td>\n",
       "    </tr>\n",
       "    <tr>\n",
       "      <th>4091</th>\n",
       "      <td>Nissan</td>\n",
       "      <td>136760</td>\n",
       "      <td>120</td>\n",
       "      <td>diesel</td>\n",
       "      <td>grey</td>\n",
       "      <td>suv</td>\n",
       "      <td>False</td>\n",
       "      <td>True</td>\n",
       "      <td>False</td>\n",
       "      <td>False</td>\n",
       "      <td>False</td>\n",
       "      <td>False</td>\n",
       "      <td>True</td>\n",
       "    </tr>\n",
       "    <tr>\n",
       "      <th>2446</th>\n",
       "      <td>Mercedes</td>\n",
       "      <td>54239</td>\n",
       "      <td>100</td>\n",
       "      <td>diesel</td>\n",
       "      <td>brown</td>\n",
       "      <td>hatchback</td>\n",
       "      <td>True</td>\n",
       "      <td>True</td>\n",
       "      <td>False</td>\n",
       "      <td>False</td>\n",
       "      <td>False</td>\n",
       "      <td>True</td>\n",
       "      <td>True</td>\n",
       "    </tr>\n",
       "    <tr>\n",
       "      <th>1047</th>\n",
       "      <td>Peugeot</td>\n",
       "      <td>151787</td>\n",
       "      <td>105</td>\n",
       "      <td>diesel</td>\n",
       "      <td>grey</td>\n",
       "      <td>estate</td>\n",
       "      <td>False</td>\n",
       "      <td>False</td>\n",
       "      <td>False</td>\n",
       "      <td>False</td>\n",
       "      <td>False</td>\n",
       "      <td>False</td>\n",
       "      <td>True</td>\n",
       "    </tr>\n",
       "    <tr>\n",
       "      <th>3423</th>\n",
       "      <td>Peugeot</td>\n",
       "      <td>109236</td>\n",
       "      <td>100</td>\n",
       "      <td>diesel</td>\n",
       "      <td>black</td>\n",
       "      <td>sedan</td>\n",
       "      <td>False</td>\n",
       "      <td>True</td>\n",
       "      <td>False</td>\n",
       "      <td>False</td>\n",
       "      <td>False</td>\n",
       "      <td>False</td>\n",
       "      <td>True</td>\n",
       "    </tr>\n",
       "  </tbody>\n",
       "</table>\n",
       "</div>"
      ],
      "text/plain": [
       "     model_key  mileage  engine_power    fuel paint_color   car_type  \\\n",
       "3957       BMW   152889           140  diesel       white        suv   \n",
       "4091    Nissan   136760           120  diesel        grey        suv   \n",
       "2446  Mercedes    54239           100  diesel       brown  hatchback   \n",
       "1047   Peugeot   151787           105  diesel        grey     estate   \n",
       "3423   Peugeot   109236           100  diesel       black      sedan   \n",
       "\n",
       "      private_parking_available  has_gps  has_air_conditioning  automatic_car  \\\n",
       "3957                      False    False                 False          False   \n",
       "4091                      False     True                 False          False   \n",
       "2446                       True     True                 False          False   \n",
       "1047                      False    False                 False          False   \n",
       "3423                      False     True                 False          False   \n",
       "\n",
       "      has_getaround_connect  has_speed_regulator  winter_tires  \n",
       "3957                  False                False         False  \n",
       "4091                  False                False          True  \n",
       "2446                  False                 True          True  \n",
       "1047                  False                False          True  \n",
       "3423                  False                False          True  "
      ]
     },
     "metadata": {},
     "output_type": "display_data"
    },
    {
     "name": "stdout",
     "output_type": "stream",
     "text": [
      "Preprocessings on test set result: \n"
     ]
    },
    {
     "data": {
      "text/plain": [
       "<5x41 sparse matrix of type '<class 'numpy.float64'>'\n",
       "\twith 34 stored elements in Compressed Sparse Row format>"
      ]
     },
     "metadata": {},
     "output_type": "display_data"
    },
    {
     "name": "stdout",
     "output_type": "stream",
     "text": [
      "\n",
      ">>>> ✅ ...Done\n",
      "\n"
     ]
    }
   ],
   "source": [
    "# Preprocessings on test set\n",
    "print()\n",
    "print('>>>> 🟨 Performing preprocessings on test set...')\n",
    "print()\n",
    "display(X_test.head())\n",
    "\n",
    "print('Preprocessings on test set result: ')\n",
    "X_test = preprocessor.transform(X_test) \n",
    "# We don't fit again. The test set is used for validating decisions\n",
    "# we made based on the training set, therefore we can only apply transformations that were parametered using the training set.\n",
    "# Otherwise this creates what is called a leak from the test set which will introduce a bias in all our results.\n",
    "\n",
    "display(X_test[0:5,:]) # must use this syntax because X_test is a numpy array and not a pandas DataFrame anymore\n",
    "print()\n",
    "print('>>>> ✅ ...Done')\n",
    "print()"
   ]
  },
  {
   "cell_type": "markdown",
   "metadata": {},
   "source": [
    "--------\n",
    "### __2. Baseline Model: Linear Regression__\n",
    "--------"
   ]
  },
  {
   "cell_type": "markdown",
   "metadata": {},
   "source": [
    "### Model trainning and predictions"
   ]
  },
  {
   "cell_type": "code",
   "execution_count": 111,
   "metadata": {},
   "outputs": [
    {
     "name": "stdout",
     "output_type": "stream",
     "text": [
      ">>>> 🟨 Trainning model...\n",
      ">>>> ✅ ...Done\n"
     ]
    }
   ],
   "source": [
    "# Train model\n",
    "print('>>>> 🟨 Trainning model...')\n",
    "regressor_1 = LinearRegression()\n",
    "regressor_1.fit(X_train, Y_train)\n",
    "print('>>>> ✅ ...Done')\n"
   ]
  },
  {
   "cell_type": "code",
   "execution_count": 112,
   "metadata": {},
   "outputs": [
    {
     "name": "stdout",
     "output_type": "stream",
     "text": [
      ">>>> 🟨 Predictions results on training set...\n",
      "\n",
      "[126.73462693  77.76373351 108.02237294 ...  94.11075948  92.99349711\n",
      " 114.20115666]\n",
      "\n",
      ">>>> ✅ ...Done\n"
     ]
    }
   ],
   "source": [
    "# Predictions on training set\n",
    "print('>>>> 🟨 Predictions results on training set...')\n",
    "print()\n",
    "Y_train_pred = regressor_1.predict(X_train)\n",
    "print(Y_train_pred)\n",
    "print()\n",
    "print('>>>> ✅ ...Done')"
   ]
  },
  {
   "cell_type": "code",
   "execution_count": 113,
   "metadata": {},
   "outputs": [
    {
     "name": "stdout",
     "output_type": "stream",
     "text": [
      ">>>> 🟨 Predictions results on test set...\n",
      "\n",
      "[120.3387623  112.58845075 143.80004873  89.35555722 115.94159855\n",
      " 120.5327197   56.63478653 108.59601357 130.53502769 112.11977559\n",
      " 108.23287862  98.51255562 144.62129164 174.91774079  95.28509097\n",
      " 106.13173344 122.80080079 115.91501037 146.94349364 104.18947823\n",
      " 110.48264167 102.71182078 101.53114591 124.19432706 156.18863745\n",
      " 148.99674627 154.61452841  98.81706332 127.20367943 125.69911203\n",
      " 111.09097952 115.6241209  117.67476194 111.49719799  90.81999926\n",
      " 110.50312073 125.39814898 127.64940487 123.91491229 118.58474374\n",
      " 171.75539921 100.36898478 115.3791007  132.76753969 152.45274093\n",
      " 119.04993242  85.59286238 158.25637747  75.80184616 124.92459926\n",
      " 136.61524034 115.20932581  78.55692956 111.56375841 122.53654583\n",
      "  95.28895879 120.17801746 103.55480085 149.78233483 190.89334762\n",
      " 130.33376182 141.92047664 126.71798814 117.91567357  99.04295859\n",
      " 102.58595294  98.90681238 103.55714896 116.69798175 123.62130855\n",
      "  98.99453963 194.68237378 107.35331326 104.08687329 141.86463912\n",
      " 123.67651865 132.26044442  80.8116531  128.46427124  96.6612992\n",
      " 128.36375722 102.12031713 169.53241913 105.66812437  87.42752388\n",
      " 118.27344085  94.69999965 107.62862602 122.3171589  121.10671286\n",
      " 118.94056005 122.40704593 122.30155787 112.08915716 137.69056686\n",
      " 106.86045654 153.23059681 133.87459734 122.1940943  168.30269727\n",
      "  90.88156374 120.28948829 158.65404583 116.56537625 131.57204054\n",
      " 131.08951496 126.47930372 115.34005756 119.88296955 114.90150921\n",
      " 140.11339702 100.65637335  90.99211251  92.24495236 103.77317719\n",
      " 157.76670301 103.77263502 128.65971734  97.31165886 165.17145593\n",
      " 106.55475592 116.29494329 134.0608457  124.53357543 126.75049209\n",
      " 185.7150724   83.86630848 110.45910594 123.13762789 111.16790656\n",
      " 110.39899806 108.87454023 178.48504998 124.74082874 103.03906013\n",
      " 141.39470067 135.97916156  92.72458888 111.30687699 163.03625313\n",
      " 129.55036619 111.01140611 166.5790634  168.65996701 123.82802405\n",
      " 118.52725281 149.75631719 124.60407205  87.95192094 143.5296745\n",
      " 110.59494325 144.00227749  67.87721511  48.12419882  86.1904475\n",
      "  88.93942696 137.83597831 161.17235611 177.97020792 161.68546774\n",
      " 122.40525881 104.62668606 146.98850952 112.6218977   92.03886673\n",
      " 125.63586227 101.65692636  92.55163872 110.51887293  82.30738617\n",
      " 136.06883618 113.43977816 156.14686106 147.45167843 144.51436261\n",
      " 113.17485159 129.2538899  128.56361762 122.17976147 181.29263071\n",
      " 120.4163784   96.20818646  96.33607204 117.1856808  104.00714654\n",
      "  99.71648377  81.88785593 102.62347145 102.53308308 188.48039788\n",
      " 118.93424607 112.15958284 118.11490532 111.53866367  97.86503323\n",
      " 121.09440128 176.27080743 111.96045546 101.71099085 119.27127249\n",
      " 154.38279861  91.37448579  99.94226961 128.97600469 102.08524039\n",
      " 100.52056863  85.56551348 146.77907134 105.13726628 113.8744839\n",
      "  93.60501744 137.41610508 124.06451608  79.1735723  127.16513165\n",
      " 131.11182326 132.89405117 108.21025535 125.19028718 113.26188388\n",
      " 111.939135    87.53234062  88.34068672 110.41917394  90.13490037\n",
      "  86.72947786 130.12103474 159.53845938  96.66061772 110.05496935\n",
      "  98.49891096 112.68917029  85.55149607 119.91191689 157.13180105\n",
      " 130.33261764 104.49711342 102.17150763  96.56966637 185.16100783\n",
      " 141.51567216 113.40684581 108.72352706  87.08985701 105.09814854\n",
      "  98.15108992  97.90586563 112.95494147 108.34820848 152.3735573\n",
      " 124.05245971 108.98754214 164.21410044 109.39900577 166.71280662\n",
      " 126.22017415 100.19485481 118.32852622 126.78778016  83.46307401\n",
      " 120.52003227 109.18667412  81.43846353 119.47457749  90.62121979\n",
      " 136.49153997  88.82144744 161.00688306 111.09741959  94.10136125\n",
      " 114.26877059 172.20694765 108.13920156 105.06635856 100.45980119\n",
      "  76.44002736 148.94874209 123.89158957 109.86229207 142.19249293\n",
      " 142.75119592 130.71858865  93.4405624  140.02167643 132.87362914\n",
      " 106.17537415 108.60077212 126.44066504 130.96048957 118.80887071\n",
      " 113.35367132 120.0114066  128.35649441 102.90714654 132.12550929\n",
      " 118.46478294 171.61638822  96.83783833 153.5067818  134.7558872\n",
      " 122.21350136 148.0576804   91.17806546 121.17364361 118.01049936\n",
      " 167.68564789 179.24760303 111.0811545  125.31813281 100.31317093\n",
      " 130.49109422 128.63006098 105.85249891 115.44536016 175.11532403\n",
      " 132.92287129 111.1930981  109.75142251 129.74306322 145.99256531\n",
      " 115.85125763 131.19732676 114.39568432 113.5035012  119.6837557\n",
      " 115.5436276  137.93703864 109.92188554 105.67026212 185.32302853\n",
      "  80.17430621 185.34178632 122.99285761 112.70844159 183.87731574\n",
      " 115.24813581  96.71862521 113.34494593 167.75827258 113.5365556\n",
      " 126.99354738 134.73583736 129.83149245 116.85135556 112.89956476\n",
      " 131.45259775 104.84579271 158.01345545 139.48767268 153.79221784\n",
      " 107.87364831 122.79343412  97.31114797 118.15485084 105.80111322\n",
      " 191.30126308 107.39157126 132.56025767 116.5805629   94.73151832\n",
      " 144.74039243 111.31721654 124.29302549 139.99337912  87.79132063\n",
      "  87.69455587 141.28016711 117.62777597 100.62574959  98.61158115\n",
      " 106.52273664 111.39260777 113.94071363 139.07853064  88.41156329\n",
      "  60.02159574 116.20824848 113.32644121 121.59076013 145.57876937\n",
      " 125.27570902  99.20977797 121.95036241 147.53288895  87.47435266\n",
      " 101.44633784 117.63768473 145.24901855 100.769871   107.88588807\n",
      " 125.90340431  70.58260016 119.75913121 108.90897686 108.02773214\n",
      " 179.72109775 109.76953829  96.70853383 162.01510956  97.05002155\n",
      " 134.30337501 123.4917811  128.6132172  129.97272287 149.383828\n",
      " 133.02558803 141.46532895 113.79283408 114.77629069  90.14184225\n",
      "  73.3474003  150.71636247 126.17862197 108.70078297 101.61907123\n",
      " 101.86704514 127.06906809 124.87981354 110.36982841 102.21242735\n",
      " 117.40190204 102.94612076 118.31454694 129.34495461 110.90769648\n",
      "  86.56562325  67.08871556 107.84944122 116.85934601 106.56687952\n",
      " 112.27473348 167.38356543  81.8458183  129.27602748 102.83244688\n",
      "  98.40462653 151.099504   158.89633029  99.4812262  137.24827751\n",
      " 124.42004268 136.6376021  167.68252686 107.19030202 170.99716822\n",
      " 132.68548572 121.55075999 183.39777757 163.74108696 103.38380187\n",
      " 117.94345329 110.11531931 118.73273958  96.76668852 130.97399849\n",
      " 133.64017958 138.64298621  97.28904406 112.75039278 107.45090619\n",
      "  90.99427173 120.31720874 120.31244163 132.59105269 139.84252245\n",
      " 146.8913284  118.66789441 124.28351558 142.0663836  116.94734696\n",
      "  93.94372447 137.74760917  80.78552452 130.50723396 120.23320445\n",
      " 118.18093091 119.61840801 114.98511976 135.39937707 131.68875476\n",
      " 137.72209253 125.55981032 138.85624067  95.24243051 137.79970026\n",
      " 113.10912041 119.91007838 165.12491344  78.76370485 138.05880563\n",
      " 116.29302945 147.83513933 136.24561995  88.76460647 112.46237092\n",
      " 115.34515483 102.66968897  78.86647184  88.03350504 168.45116948\n",
      " 159.64614006 126.01799309 103.09865795 112.78134575 105.19152751\n",
      " 130.6812004  119.9402781   88.30432804 177.64873174 153.41749059\n",
      " 172.28429228 137.63719539 115.54627916 124.87282501 104.65218508\n",
      " 118.59118423 140.17121489  98.21704169  99.11526751 131.41920616\n",
      " 100.06214443 105.11316142 100.46448179 125.69965681 141.98394551\n",
      " 118.53679022 108.36668017 109.72941841 130.7123544  118.12843658\n",
      "  96.0990878  176.15524958 113.35328823 135.27497746 101.23731797\n",
      " 135.34406595 113.20603847 129.35219313 132.51978918 101.19163003\n",
      " 137.69894518 110.93120721 134.30453391 111.88735395 100.45742237\n",
      "  98.85498704  66.69871137  82.54547949 103.741591   133.14003012\n",
      " 139.86758831  98.24891954 107.93395199 106.33950348 126.04839914\n",
      "  93.96814512 177.2547274  133.37923107 186.35517658  91.2760609\n",
      " 123.01707188 134.03416442 119.72539632 100.29579953 108.04207088\n",
      " 124.94736629 124.72639887 112.79504283  88.29325099 140.3981186\n",
      " 128.50748478 103.65953473 183.50091845 112.66628369  97.93418569\n",
      " 144.07503756 112.85445507  95.60550775 149.33248762 127.99396109\n",
      " 100.66720466 110.30897052  84.55690816 129.68584467 117.46633774\n",
      "  91.8679615   97.8833363  112.95853958 108.48572712 124.77411056\n",
      " 114.43840597 123.9415008  167.39884606 131.54051075 124.5286954\n",
      " 100.10446863 152.88062063 129.71877741 121.6489107   96.49916017\n",
      " 128.13091752 101.90245529 174.46318116 135.42240287  93.76274492\n",
      " 141.50113691 183.79936249 134.66538573 102.32938923 118.7711512\n",
      " 171.10635856 102.73937783  84.98611891 122.87752236 109.72884193\n",
      " 146.91173383  99.58541453  97.963956   116.48214581  95.88106806\n",
      " 135.18368642 120.36783779  97.18082785 110.77222252 143.25889079\n",
      " 136.35098609  62.06842693 137.71630667 112.7734271  110.76024127\n",
      "  91.32457121 120.68117967 100.79077645 113.02129968 133.87523502\n",
      " 149.03749151 117.172232   145.78134415 124.08862083 107.3541716\n",
      " 128.32211206 132.57922219 118.61002743 103.88817074  78.47159148\n",
      " 166.06837164  90.63244755 117.77869019 209.56824825  84.66968098\n",
      "  94.99539585 120.07305628  84.86023619 129.57248054 158.5945571\n",
      " 144.80811334  91.26222384  96.99587841 172.00179145 128.29874012\n",
      " 111.93228504 114.38121836 150.45263036 103.50730127  99.66878523\n",
      " 162.12489504  92.20096842  94.9050294  187.46649631  86.93818833\n",
      " 105.92080655  96.41770253 110.0334259  110.06807265 137.91251287\n",
      " 168.33324352  71.9054044  135.05939373  92.33227212  85.41920457\n",
      " 138.1137241  129.2261338  121.85746826  65.67993745 148.45961415\n",
      " 103.85212884 101.09706374  98.07265043 135.30517982 148.15815008\n",
      " 113.96084122 110.17337291 107.76196607 129.4345858  163.41814712\n",
      " 187.55999587 131.89962565 144.77716786 151.33566208 162.67050589\n",
      " 105.99718087 133.01661562 104.82238922 102.65166949 125.04045994\n",
      "  92.62246419 123.57234936 101.72802433 108.71989922 122.08780919\n",
      " 103.20969116 121.26775792 102.88432647 129.69693778 140.49931373\n",
      " 104.46298776 137.86106188  84.50658462 101.45205545 115.03162143\n",
      " 100.01228408 138.75532221 127.07095148 130.72277709 105.28969878\n",
      "  92.70985926 123.78858532 112.00590806  99.67966272 141.83365775\n",
      "  84.67179726 126.31507163  88.14913405  67.64334725 103.01024211\n",
      " 131.15507663  86.13483499 110.95158646 110.52210409 109.43871222\n",
      "  95.44632962 146.65126792 101.5648232  115.10675066 125.23523375\n",
      " 114.80890524 144.40565389  87.99448823 146.77592333 124.25874769\n",
      " 138.39820257 105.41845328 104.57807541 149.15007018 165.97354468\n",
      "  74.26202727 125.8260763   99.39742365 135.67774188 141.27855869\n",
      " 128.51472989 137.19387255 123.3901118   67.78029147 105.11353814\n",
      " 107.59247461 172.24599989 122.36537661  92.91706806 108.51685173\n",
      " 104.27981913 131.59091009  85.23210917 117.80691393 118.6369874\n",
      " 142.01104433  63.12408691 170.94299394 105.29209186 125.86948715\n",
      "  94.2034508  172.25721148 112.74961235 115.31455668 112.56242415\n",
      "  43.85220092 133.18214329 124.47755227  95.14077265 109.32713298\n",
      " 130.70119268 128.55878487 186.26766792 133.41202572 109.17918924\n",
      " 130.49520534  43.87319964 162.25741575 119.93078903 160.28898498\n",
      " 158.67664524 187.170301   148.47820947 125.37054176 131.90158462\n",
      " 109.65015947 105.30156123 147.80115974 101.80625937 158.5702226\n",
      " 113.35140339  89.07390439 167.2839674   68.91803167 163.75545265\n",
      " 127.05118227 110.2131602   80.70887012  95.95898668 125.6315065\n",
      " 152.09251798  92.93477692 109.03835552 122.98305683 129.10660694\n",
      " 117.62313649 104.89271376  96.6011036  120.74606673 124.91056637\n",
      " 144.90473758 155.83608564 170.66039377 146.05867323 130.56904542\n",
      "  88.15680894 171.38973074 193.06694215 115.88916847 105.60934471\n",
      " 160.39439169 105.25088842 117.75513493 104.73778735 111.64750642\n",
      " 140.94230582  94.70962822 168.44742655 109.74476204 100.38172878\n",
      " 156.83132918  95.11245459 117.15802672 113.75114493  99.14856523\n",
      " 144.48006959 144.34674627  97.81702455 128.67696982 130.57518545\n",
      " 106.54321835 157.43211585 107.14100634  80.60904869  99.21340184\n",
      " 139.09657712 106.54707937 127.07870023 128.68132884 118.69544136\n",
      " 120.07825713  99.791435   107.67600874  74.10752026  73.71124263\n",
      " 121.4180987   99.28433971 169.13951736 138.74709191  80.71184891\n",
      " 131.23382614  90.22014915 155.71678487 102.07621235 117.62815391\n",
      "  81.42659563  99.07794559 117.41126442 156.97430087 113.97001284\n",
      "  87.13801467 119.96078864  87.51218469 110.04167001 172.85875937\n",
      " 167.00881484 122.73405742 115.2542585  128.98493005  92.90046983\n",
      " 129.22705744 112.43664345 131.26458289 133.86386337 104.00334264\n",
      " 102.79213839 106.91176111 104.20124688 114.09828401 139.25176245\n",
      " 106.68268814 131.14845818  98.14890823 127.94051748 101.80456866\n",
      " 142.37464563 144.88493873 112.77255845 145.4245906  128.42691237\n",
      " 157.61961134 110.45794865 135.99887519 109.99997162 128.25710745\n",
      " 149.02627664 108.80207297  81.91406412  76.47065378 140.32893494\n",
      " 119.4934713  129.46563562 112.18605442 168.79821596 110.3544924\n",
      " 107.19361761 124.42580752]\n",
      "\n",
      ">>>> ✅ ...Done\n"
     ]
    }
   ],
   "source": [
    "# Predictions on test set\n",
    "print('>>>> 🟨 Predictions results on test set...')\n",
    "print()\n",
    "Y_test_pred = regressor_1.predict(X_test)\n",
    "print(Y_test_pred)\n",
    "print()\n",
    "print('>>>> ✅ ...Done')"
   ]
  },
  {
   "cell_type": "markdown",
   "metadata": {},
   "source": [
    "--------\n",
    "### __3. Evaluating the model: Performance Metrics & Coefficients__\n",
    "--------"
   ]
  },
  {
   "cell_type": "code",
   "execution_count": 114,
   "metadata": {},
   "outputs": [
    {
     "name": "stdout",
     "output_type": "stream",
     "text": [
      "R2 score on training set :  0.70505\n",
      "R2 score on test set :  0.71318\n"
     ]
    }
   ],
   "source": [
    "# Print R^2 scores\n",
    "print('R2 score on training set : ', r2_score(Y_train, Y_train_pred).round(5))\n",
    "print('R2 score on test set : ', r2_score(Y_test, Y_test_pred).round(5))"
   ]
  },
  {
   "cell_type": "code",
   "execution_count": 115,
   "metadata": {},
   "outputs": [
    {
     "name": "stdout",
     "output_type": "stream",
     "text": [
      "MSE on training set: 260.47\n",
      "MSE on test set: 258.76\n"
     ]
    }
   ],
   "source": [
    "# Calculate the mean squared error of the model on the train and test sets using scikit-learn's mean_squared_error function\n",
    "train_mse = mean_squared_error(Y_train, Y_train_pred)\n",
    "test_mse = mean_squared_error(Y_test, Y_test_pred)\n",
    "\n",
    "# Print the results\n",
    "print(f'MSE on training set: {train_mse:.2f}')\n",
    "print(f'MSE on test set: {test_mse:.2f}')"
   ]
  },
  {
   "cell_type": "code",
   "execution_count": 116,
   "metadata": {},
   "outputs": [
    {
     "data": {
      "text/html": [
       "<div>\n",
       "<style scoped>\n",
       "    .dataframe tbody tr th:only-of-type {\n",
       "        vertical-align: middle;\n",
       "    }\n",
       "\n",
       "    .dataframe tbody tr th {\n",
       "        vertical-align: top;\n",
       "    }\n",
       "\n",
       "    .dataframe thead th {\n",
       "        text-align: right;\n",
       "    }\n",
       "</style>\n",
       "<table border=\"1\" class=\"dataframe\">\n",
       "  <thead>\n",
       "    <tr style=\"text-align: right;\">\n",
       "      <th></th>\n",
       "      <th>Actual</th>\n",
       "      <th>Predicted</th>\n",
       "    </tr>\n",
       "  </thead>\n",
       "  <tbody>\n",
       "    <tr>\n",
       "      <th>3957</th>\n",
       "      <td>151</td>\n",
       "      <td>120.338762</td>\n",
       "    </tr>\n",
       "    <tr>\n",
       "      <th>4091</th>\n",
       "      <td>116</td>\n",
       "      <td>112.588451</td>\n",
       "    </tr>\n",
       "    <tr>\n",
       "      <th>2446</th>\n",
       "      <td>140</td>\n",
       "      <td>143.800049</td>\n",
       "    </tr>\n",
       "    <tr>\n",
       "      <th>1047</th>\n",
       "      <td>91</td>\n",
       "      <td>89.355557</td>\n",
       "    </tr>\n",
       "    <tr>\n",
       "      <th>3423</th>\n",
       "      <td>110</td>\n",
       "      <td>115.941599</td>\n",
       "    </tr>\n",
       "  </tbody>\n",
       "</table>\n",
       "</div>"
      ],
      "text/plain": [
       "      Actual   Predicted\n",
       "3957     151  120.338762\n",
       "4091     116  112.588451\n",
       "2446     140  143.800049\n",
       "1047      91   89.355557\n",
       "3423     110  115.941599"
      ]
     },
     "execution_count": 116,
     "metadata": {},
     "output_type": "execute_result"
    }
   ],
   "source": [
    "actual_vs_predicted_results = pd.DataFrame({'Actual': Y_test, 'Predicted': Y_test_pred})\n",
    "actual_vs_predicted_results.head()"
   ]
  },
  {
   "cell_type": "code",
   "execution_count": 117,
   "metadata": {},
   "outputs": [
    {
     "name": "stdout",
     "output_type": "stream",
     "text": [
      "Actual average of our target Rental Price Per Day: 120.25\n",
      "Predicted average Rental Price Per Day: 120.35\n"
     ]
    }
   ],
   "source": [
    "# we get to compare the actual average of our target 'Weekly_Sales' with the average our model predicted. \n",
    "print(f'Actual average of our target Rental Price Per Day: {round(Y.mean(), 2)}')\n",
    "print(f'Predicted average Rental Price Per Day: {round(Y_test_pred.mean(), 2)}')"
   ]
  },
  {
   "cell_type": "code",
   "execution_count": 118,
   "metadata": {},
   "outputs": [
    {
     "name": "stdout",
     "output_type": "stream",
     "text": [
      "The variance score is: 0.7131808619558895\n"
     ]
    }
   ],
   "source": [
    "print(f'The variance score is: {regressor_1.score(X_test,Y_test)}')"
   ]
  },
  {
   "cell_type": "code",
   "execution_count": 119,
   "metadata": {},
   "outputs": [
    {
     "data": {
      "text/html": [
       "<div>\n",
       "<style scoped>\n",
       "    .dataframe tbody tr th:only-of-type {\n",
       "        vertical-align: middle;\n",
       "    }\n",
       "\n",
       "    .dataframe tbody tr th {\n",
       "        vertical-align: top;\n",
       "    }\n",
       "\n",
       "    .dataframe thead th {\n",
       "        text-align: right;\n",
       "    }\n",
       "</style>\n",
       "<table border=\"1\" class=\"dataframe\">\n",
       "  <thead>\n",
       "    <tr style=\"text-align: right;\">\n",
       "      <th></th>\n",
       "      <th>Features</th>\n",
       "      <th>Coefficients</th>\n",
       "    </tr>\n",
       "  </thead>\n",
       "  <tbody>\n",
       "    <tr>\n",
       "      <th>10</th>\n",
       "      <td>has_getaround_connect</td>\n",
       "      <td>17.895859</td>\n",
       "    </tr>\n",
       "    <tr>\n",
       "      <th>9</th>\n",
       "      <td>automatic_car</td>\n",
       "      <td>15.242424</td>\n",
       "    </tr>\n",
       "    <tr>\n",
       "      <th>8</th>\n",
       "      <td>has_air_conditioning</td>\n",
       "      <td>14.066157</td>\n",
       "    </tr>\n",
       "    <tr>\n",
       "      <th>0</th>\n",
       "      <td>model_key</td>\n",
       "      <td>11.992298</td>\n",
       "    </tr>\n",
       "    <tr>\n",
       "      <th>1</th>\n",
       "      <td>mileage</td>\n",
       "      <td>11.727303</td>\n",
       "    </tr>\n",
       "    <tr>\n",
       "      <th>6</th>\n",
       "      <td>private_parking_available</td>\n",
       "      <td>10.973355</td>\n",
       "    </tr>\n",
       "    <tr>\n",
       "      <th>4</th>\n",
       "      <td>paint_color</td>\n",
       "      <td>8.987538</td>\n",
       "    </tr>\n",
       "    <tr>\n",
       "      <th>7</th>\n",
       "      <td>has_gps</td>\n",
       "      <td>8.661069</td>\n",
       "    </tr>\n",
       "    <tr>\n",
       "      <th>3</th>\n",
       "      <td>fuel</td>\n",
       "      <td>7.563708</td>\n",
       "    </tr>\n",
       "    <tr>\n",
       "      <th>2</th>\n",
       "      <td>engine_power</td>\n",
       "      <td>6.280387</td>\n",
       "    </tr>\n",
       "    <tr>\n",
       "      <th>5</th>\n",
       "      <td>car_type</td>\n",
       "      <td>6.275137</td>\n",
       "    </tr>\n",
       "    <tr>\n",
       "      <th>11</th>\n",
       "      <td>has_speed_regulator</td>\n",
       "      <td>3.673290</td>\n",
       "    </tr>\n",
       "    <tr>\n",
       "      <th>12</th>\n",
       "      <td>winter_tires</td>\n",
       "      <td>3.143413</td>\n",
       "    </tr>\n",
       "  </tbody>\n",
       "</table>\n",
       "</div>"
      ],
      "text/plain": [
       "                     Features  Coefficients\n",
       "10      has_getaround_connect     17.895859\n",
       "9               automatic_car     15.242424\n",
       "8        has_air_conditioning     14.066157\n",
       "0                   model_key     11.992298\n",
       "1                     mileage     11.727303\n",
       "6   private_parking_available     10.973355\n",
       "4                 paint_color      8.987538\n",
       "7                     has_gps      8.661069\n",
       "3                        fuel      7.563708\n",
       "2                engine_power      6.280387\n",
       "5                    car_type      6.275137\n",
       "11        has_speed_regulator      3.673290\n",
       "12               winter_tires      3.143413"
      ]
     },
     "execution_count": 119,
     "metadata": {},
     "output_type": "execute_result"
    }
   ],
   "source": [
    "feature_importance = list(zip(X.columns.to_list(), regressor_1.coef_))\n",
    "\n",
    "feature_importance = pd.DataFrame(feature_importance, columns=['Features','Coefficients'])\n",
    "\n",
    "feature_importance['Coefficients'] = abs(feature_importance['Coefficients'])\n",
    "\n",
    "feature_importance = feature_importance.sort_values(by = 'Coefficients', ascending = False)\n",
    "\n",
    "feature_importance"
   ]
  },
  {
   "cell_type": "code",
   "execution_count": 120,
   "metadata": {},
   "outputs": [
    {
     "data": {
      "application/vnd.plotly.v1+json": {
       "config": {
        "plotlyServerURL": "https://plot.ly"
       },
       "data": [
        {
         "orientation": "h",
         "type": "bar",
         "x": [
          17.895859496594444,
          15.24242412348654,
          14.066157375387958,
          11.992297973744389,
          11.727303202479616,
          10.973355076326003,
          8.987538149295938,
          8.661068948476089,
          7.563708025867077,
          6.280386679738742,
          6.27513690240668,
          3.67328998165467,
          3.1434125936315667
         ],
         "y": [
          "has_getaround_connect",
          "automatic_car",
          "has_air_conditioning",
          "model_key",
          "mileage",
          "private_parking_available",
          "paint_color",
          "has_gps",
          "fuel",
          "engine_power",
          "car_type",
          "has_speed_regulator",
          "winter_tires"
         ]
        }
       ],
       "layout": {
        "template": {
         "data": {
          "bar": [
           {
            "error_x": {
             "color": "#2a3f5f"
            },
            "error_y": {
             "color": "#2a3f5f"
            },
            "marker": {
             "line": {
              "color": "#E5ECF6",
              "width": 0.5
             },
             "pattern": {
              "fillmode": "overlay",
              "size": 10,
              "solidity": 0.2
             }
            },
            "type": "bar"
           }
          ],
          "barpolar": [
           {
            "marker": {
             "line": {
              "color": "#E5ECF6",
              "width": 0.5
             },
             "pattern": {
              "fillmode": "overlay",
              "size": 10,
              "solidity": 0.2
             }
            },
            "type": "barpolar"
           }
          ],
          "carpet": [
           {
            "aaxis": {
             "endlinecolor": "#2a3f5f",
             "gridcolor": "white",
             "linecolor": "white",
             "minorgridcolor": "white",
             "startlinecolor": "#2a3f5f"
            },
            "baxis": {
             "endlinecolor": "#2a3f5f",
             "gridcolor": "white",
             "linecolor": "white",
             "minorgridcolor": "white",
             "startlinecolor": "#2a3f5f"
            },
            "type": "carpet"
           }
          ],
          "choropleth": [
           {
            "colorbar": {
             "outlinewidth": 0,
             "ticks": ""
            },
            "type": "choropleth"
           }
          ],
          "contour": [
           {
            "colorbar": {
             "outlinewidth": 0,
             "ticks": ""
            },
            "colorscale": [
             [
              0,
              "#0d0887"
             ],
             [
              0.1111111111111111,
              "#46039f"
             ],
             [
              0.2222222222222222,
              "#7201a8"
             ],
             [
              0.3333333333333333,
              "#9c179e"
             ],
             [
              0.4444444444444444,
              "#bd3786"
             ],
             [
              0.5555555555555556,
              "#d8576b"
             ],
             [
              0.6666666666666666,
              "#ed7953"
             ],
             [
              0.7777777777777778,
              "#fb9f3a"
             ],
             [
              0.8888888888888888,
              "#fdca26"
             ],
             [
              1,
              "#f0f921"
             ]
            ],
            "type": "contour"
           }
          ],
          "contourcarpet": [
           {
            "colorbar": {
             "outlinewidth": 0,
             "ticks": ""
            },
            "type": "contourcarpet"
           }
          ],
          "heatmap": [
           {
            "colorbar": {
             "outlinewidth": 0,
             "ticks": ""
            },
            "colorscale": [
             [
              0,
              "#0d0887"
             ],
             [
              0.1111111111111111,
              "#46039f"
             ],
             [
              0.2222222222222222,
              "#7201a8"
             ],
             [
              0.3333333333333333,
              "#9c179e"
             ],
             [
              0.4444444444444444,
              "#bd3786"
             ],
             [
              0.5555555555555556,
              "#d8576b"
             ],
             [
              0.6666666666666666,
              "#ed7953"
             ],
             [
              0.7777777777777778,
              "#fb9f3a"
             ],
             [
              0.8888888888888888,
              "#fdca26"
             ],
             [
              1,
              "#f0f921"
             ]
            ],
            "type": "heatmap"
           }
          ],
          "heatmapgl": [
           {
            "colorbar": {
             "outlinewidth": 0,
             "ticks": ""
            },
            "colorscale": [
             [
              0,
              "#0d0887"
             ],
             [
              0.1111111111111111,
              "#46039f"
             ],
             [
              0.2222222222222222,
              "#7201a8"
             ],
             [
              0.3333333333333333,
              "#9c179e"
             ],
             [
              0.4444444444444444,
              "#bd3786"
             ],
             [
              0.5555555555555556,
              "#d8576b"
             ],
             [
              0.6666666666666666,
              "#ed7953"
             ],
             [
              0.7777777777777778,
              "#fb9f3a"
             ],
             [
              0.8888888888888888,
              "#fdca26"
             ],
             [
              1,
              "#f0f921"
             ]
            ],
            "type": "heatmapgl"
           }
          ],
          "histogram": [
           {
            "marker": {
             "pattern": {
              "fillmode": "overlay",
              "size": 10,
              "solidity": 0.2
             }
            },
            "type": "histogram"
           }
          ],
          "histogram2d": [
           {
            "colorbar": {
             "outlinewidth": 0,
             "ticks": ""
            },
            "colorscale": [
             [
              0,
              "#0d0887"
             ],
             [
              0.1111111111111111,
              "#46039f"
             ],
             [
              0.2222222222222222,
              "#7201a8"
             ],
             [
              0.3333333333333333,
              "#9c179e"
             ],
             [
              0.4444444444444444,
              "#bd3786"
             ],
             [
              0.5555555555555556,
              "#d8576b"
             ],
             [
              0.6666666666666666,
              "#ed7953"
             ],
             [
              0.7777777777777778,
              "#fb9f3a"
             ],
             [
              0.8888888888888888,
              "#fdca26"
             ],
             [
              1,
              "#f0f921"
             ]
            ],
            "type": "histogram2d"
           }
          ],
          "histogram2dcontour": [
           {
            "colorbar": {
             "outlinewidth": 0,
             "ticks": ""
            },
            "colorscale": [
             [
              0,
              "#0d0887"
             ],
             [
              0.1111111111111111,
              "#46039f"
             ],
             [
              0.2222222222222222,
              "#7201a8"
             ],
             [
              0.3333333333333333,
              "#9c179e"
             ],
             [
              0.4444444444444444,
              "#bd3786"
             ],
             [
              0.5555555555555556,
              "#d8576b"
             ],
             [
              0.6666666666666666,
              "#ed7953"
             ],
             [
              0.7777777777777778,
              "#fb9f3a"
             ],
             [
              0.8888888888888888,
              "#fdca26"
             ],
             [
              1,
              "#f0f921"
             ]
            ],
            "type": "histogram2dcontour"
           }
          ],
          "mesh3d": [
           {
            "colorbar": {
             "outlinewidth": 0,
             "ticks": ""
            },
            "type": "mesh3d"
           }
          ],
          "parcoords": [
           {
            "line": {
             "colorbar": {
              "outlinewidth": 0,
              "ticks": ""
             }
            },
            "type": "parcoords"
           }
          ],
          "pie": [
           {
            "automargin": true,
            "type": "pie"
           }
          ],
          "scatter": [
           {
            "fillpattern": {
             "fillmode": "overlay",
             "size": 10,
             "solidity": 0.2
            },
            "type": "scatter"
           }
          ],
          "scatter3d": [
           {
            "line": {
             "colorbar": {
              "outlinewidth": 0,
              "ticks": ""
             }
            },
            "marker": {
             "colorbar": {
              "outlinewidth": 0,
              "ticks": ""
             }
            },
            "type": "scatter3d"
           }
          ],
          "scattercarpet": [
           {
            "marker": {
             "colorbar": {
              "outlinewidth": 0,
              "ticks": ""
             }
            },
            "type": "scattercarpet"
           }
          ],
          "scattergeo": [
           {
            "marker": {
             "colorbar": {
              "outlinewidth": 0,
              "ticks": ""
             }
            },
            "type": "scattergeo"
           }
          ],
          "scattergl": [
           {
            "marker": {
             "colorbar": {
              "outlinewidth": 0,
              "ticks": ""
             }
            },
            "type": "scattergl"
           }
          ],
          "scattermapbox": [
           {
            "marker": {
             "colorbar": {
              "outlinewidth": 0,
              "ticks": ""
             }
            },
            "type": "scattermapbox"
           }
          ],
          "scatterpolar": [
           {
            "marker": {
             "colorbar": {
              "outlinewidth": 0,
              "ticks": ""
             }
            },
            "type": "scatterpolar"
           }
          ],
          "scatterpolargl": [
           {
            "marker": {
             "colorbar": {
              "outlinewidth": 0,
              "ticks": ""
             }
            },
            "type": "scatterpolargl"
           }
          ],
          "scatterternary": [
           {
            "marker": {
             "colorbar": {
              "outlinewidth": 0,
              "ticks": ""
             }
            },
            "type": "scatterternary"
           }
          ],
          "surface": [
           {
            "colorbar": {
             "outlinewidth": 0,
             "ticks": ""
            },
            "colorscale": [
             [
              0,
              "#0d0887"
             ],
             [
              0.1111111111111111,
              "#46039f"
             ],
             [
              0.2222222222222222,
              "#7201a8"
             ],
             [
              0.3333333333333333,
              "#9c179e"
             ],
             [
              0.4444444444444444,
              "#bd3786"
             ],
             [
              0.5555555555555556,
              "#d8576b"
             ],
             [
              0.6666666666666666,
              "#ed7953"
             ],
             [
              0.7777777777777778,
              "#fb9f3a"
             ],
             [
              0.8888888888888888,
              "#fdca26"
             ],
             [
              1,
              "#f0f921"
             ]
            ],
            "type": "surface"
           }
          ],
          "table": [
           {
            "cells": {
             "fill": {
              "color": "#EBF0F8"
             },
             "line": {
              "color": "white"
             }
            },
            "header": {
             "fill": {
              "color": "#C8D4E3"
             },
             "line": {
              "color": "white"
             }
            },
            "type": "table"
           }
          ]
         },
         "layout": {
          "annotationdefaults": {
           "arrowcolor": "#2a3f5f",
           "arrowhead": 0,
           "arrowwidth": 1
          },
          "autotypenumbers": "strict",
          "coloraxis": {
           "colorbar": {
            "outlinewidth": 0,
            "ticks": ""
           }
          },
          "colorscale": {
           "diverging": [
            [
             0,
             "#8e0152"
            ],
            [
             0.1,
             "#c51b7d"
            ],
            [
             0.2,
             "#de77ae"
            ],
            [
             0.3,
             "#f1b6da"
            ],
            [
             0.4,
             "#fde0ef"
            ],
            [
             0.5,
             "#f7f7f7"
            ],
            [
             0.6,
             "#e6f5d0"
            ],
            [
             0.7,
             "#b8e186"
            ],
            [
             0.8,
             "#7fbc41"
            ],
            [
             0.9,
             "#4d9221"
            ],
            [
             1,
             "#276419"
            ]
           ],
           "sequential": [
            [
             0,
             "#0d0887"
            ],
            [
             0.1111111111111111,
             "#46039f"
            ],
            [
             0.2222222222222222,
             "#7201a8"
            ],
            [
             0.3333333333333333,
             "#9c179e"
            ],
            [
             0.4444444444444444,
             "#bd3786"
            ],
            [
             0.5555555555555556,
             "#d8576b"
            ],
            [
             0.6666666666666666,
             "#ed7953"
            ],
            [
             0.7777777777777778,
             "#fb9f3a"
            ],
            [
             0.8888888888888888,
             "#fdca26"
            ],
            [
             1,
             "#f0f921"
            ]
           ],
           "sequentialminus": [
            [
             0,
             "#0d0887"
            ],
            [
             0.1111111111111111,
             "#46039f"
            ],
            [
             0.2222222222222222,
             "#7201a8"
            ],
            [
             0.3333333333333333,
             "#9c179e"
            ],
            [
             0.4444444444444444,
             "#bd3786"
            ],
            [
             0.5555555555555556,
             "#d8576b"
            ],
            [
             0.6666666666666666,
             "#ed7953"
            ],
            [
             0.7777777777777778,
             "#fb9f3a"
            ],
            [
             0.8888888888888888,
             "#fdca26"
            ],
            [
             1,
             "#f0f921"
            ]
           ]
          },
          "colorway": [
           "#636efa",
           "#EF553B",
           "#00cc96",
           "#ab63fa",
           "#FFA15A",
           "#19d3f3",
           "#FF6692",
           "#B6E880",
           "#FF97FF",
           "#FECB52"
          ],
          "font": {
           "color": "#2a3f5f"
          },
          "geo": {
           "bgcolor": "white",
           "lakecolor": "white",
           "landcolor": "#E5ECF6",
           "showlakes": true,
           "showland": true,
           "subunitcolor": "white"
          },
          "hoverlabel": {
           "align": "left"
          },
          "hovermode": "closest",
          "mapbox": {
           "style": "light"
          },
          "paper_bgcolor": "white",
          "plot_bgcolor": "#E5ECF6",
          "polar": {
           "angularaxis": {
            "gridcolor": "white",
            "linecolor": "white",
            "ticks": ""
           },
           "bgcolor": "#E5ECF6",
           "radialaxis": {
            "gridcolor": "white",
            "linecolor": "white",
            "ticks": ""
           }
          },
          "scene": {
           "xaxis": {
            "backgroundcolor": "#E5ECF6",
            "gridcolor": "white",
            "gridwidth": 2,
            "linecolor": "white",
            "showbackground": true,
            "ticks": "",
            "zerolinecolor": "white"
           },
           "yaxis": {
            "backgroundcolor": "#E5ECF6",
            "gridcolor": "white",
            "gridwidth": 2,
            "linecolor": "white",
            "showbackground": true,
            "ticks": "",
            "zerolinecolor": "white"
           },
           "zaxis": {
            "backgroundcolor": "#E5ECF6",
            "gridcolor": "white",
            "gridwidth": 2,
            "linecolor": "white",
            "showbackground": true,
            "ticks": "",
            "zerolinecolor": "white"
           }
          },
          "shapedefaults": {
           "line": {
            "color": "#2a3f5f"
           }
          },
          "ternary": {
           "aaxis": {
            "gridcolor": "white",
            "linecolor": "white",
            "ticks": ""
           },
           "baxis": {
            "gridcolor": "white",
            "linecolor": "white",
            "ticks": ""
           },
           "bgcolor": "#E5ECF6",
           "caxis": {
            "gridcolor": "white",
            "linecolor": "white",
            "ticks": ""
           }
          },
          "title": {
           "x": 0.05
          },
          "xaxis": {
           "automargin": true,
           "gridcolor": "white",
           "linecolor": "white",
           "ticks": "",
           "title": {
            "standoff": 15
           },
           "zerolinecolor": "white",
           "zerolinewidth": 2
          },
          "yaxis": {
           "automargin": true,
           "gridcolor": "white",
           "linecolor": "white",
           "ticks": "",
           "title": {
            "standoff": 15
           },
           "zerolinecolor": "white",
           "zerolinewidth": 2
          }
         }
        },
        "title": {
         "text": "Features Importance"
        },
        "xaxis": {
         "title": {
          "text": "Coefficients"
         }
        },
        "yaxis": {
         "title": {
          "text": "Features"
         }
        }
       }
      }
     },
     "metadata": {},
     "output_type": "display_data"
    }
   ],
   "source": [
    "df_features = pd.DataFrame(feature_importance, columns=['Features','Coefficients'])\n",
    "\n",
    "fig = go.Figure(\n",
    "    data=[\n",
    "        go.Bar(\n",
    "            x= df_features['Coefficients'],\n",
    "            y= df_features['Features'],\n",
    "            orientation='h'\n",
    "            )])\n",
    "\n",
    "fig.update_layout(\n",
    "    title='Features Importance',\n",
    "    xaxis_title='Coefficients', \n",
    "    yaxis_title='Features')\n",
    "\n",
    "fig.show()"
   ]
  },
  {
   "cell_type": "code",
   "execution_count": 121,
   "metadata": {},
   "outputs": [
    {
     "data": {
      "text/plain": [
       "['./LinearRegressionModel.joblib']"
      ]
     },
     "execution_count": 121,
     "metadata": {},
     "output_type": "execute_result"
    }
   ],
   "source": [
    "joblib.dump(preprocessor, './Preprocessor.joblib')\n",
    "joblib.dump(regressor_1, './Linear_Regression_Model.joblib')"
   ]
  },
  {
   "cell_type": "markdown",
   "metadata": {},
   "source": [
    "--------"
   ]
  },
  {
   "attachments": {},
   "cell_type": "markdown",
   "metadata": {},
   "source": [
    "# <center>__TESTING REGULARIZED LINEAR REGRESSION MODEL: RIDGE__</center>"
   ]
  },
  {
   "cell_type": "markdown",
   "metadata": {},
   "source": [
    "--------"
   ]
  },
  {
   "cell_type": "markdown",
   "metadata": {},
   "source": [
    "#### __SECTION PLAN__ 🎯\n",
    "\n",
    "1. CROSS-VALIDATED SCORE FOR A RIDGE MODEL (with default value of λλ)\n",
    "2. GRID SEARCH: TUNNING λλ  AND NUMBER OF FOLDS\n",
    "3. EVALUATING THE MODEL: PERFORMANCE METRICS"
   ]
  },
  {
   "cell_type": "markdown",
   "metadata": {},
   "source": [
    "--------\n",
    "### __1. CROSS-VALIDATED SCORE FOR A RIDGE MODEL (with default value of λλ)__\n",
    "--------"
   ]
  },
  {
   "cell_type": "code",
   "execution_count": 122,
   "metadata": {},
   "outputs": [
    {
     "name": "stdout",
     "output_type": "stream",
     "text": [
      "3-fold cross-validation...\n",
      "The cross-validated R2-score is:  0.69449\n",
      "The standard deviation is:  0.01911\n"
     ]
    }
   ],
   "source": [
    "# Perform 3-fold cross-validation to evaluate the generalized R2 score obtained with a Ridge model\n",
    "print(\"3-fold cross-validation...\")\n",
    "regressor = Ridge()\n",
    "scores = cross_val_score(regressor, X_train, Y_train, cv=3)\n",
    "\n",
    "print('The cross-validated R2-score is: ', scores.mean().round(5))\n",
    "print('The standard deviation is: ', scores.std().round(5))\n"
   ]
  },
  {
   "cell_type": "markdown",
   "metadata": {},
   "source": [
    "--------\n",
    "### __2. GRID SEARCH: TUNNING λλ  AND NUMBER OF FOLDS__\n",
    "--------"
   ]
  },
  {
   "cell_type": "code",
   "execution_count": 123,
   "metadata": {},
   "outputs": [
    {
     "name": "stdout",
     "output_type": "stream",
     "text": [
      ">>>> 🟨 Grid search...\n",
      "Best hyperparameters :  {'alpha': 1}\n",
      "Best R2 score:  0.69653\n",
      ">>>> ✅ ...Done\n"
     ]
    }
   ],
   "source": [
    "# Perform grid search\n",
    "print('>>>> 🟨 Grid search...')\n",
    "regressor = Ridge()\n",
    "# Grid of values to be tested\n",
    "params = {\n",
    "    'alpha': [0.0, 0.1, 0.5, 1] # 0 corresponds to no regularization\n",
    "}\n",
    "gridsearch = GridSearchCV(regressor, param_grid = params, cv = 5) # cv : the number of folds to be used for CV\n",
    "gridsearch.fit(X_train, Y_train)\n",
    "print('Best hyperparameters : ', gridsearch.best_params_)\n",
    "print('Best R2 score: ', gridsearch.best_score_.round(5))\n",
    "print('>>>> ✅ ...Done')\n"
   ]
  },
  {
   "cell_type": "markdown",
   "metadata": {},
   "source": [
    "--------\n",
    "### __3. EVALUATING THE MODEL: PERFORMANCE METRICS__\n",
    "--------"
   ]
  },
  {
   "cell_type": "code",
   "execution_count": 124,
   "metadata": {},
   "outputs": [
    {
     "name": "stdout",
     "output_type": "stream",
     "text": [
      "R2 score on training set :  0.70496\n",
      "R2 score on test set :  0.71332\n",
      "-----------------------------------\n",
      "MSE on training set:  260.55257084429735\n",
      "MSE on test set:  258.6377724017892\n"
     ]
    }
   ],
   "source": [
    "# Print R^2 scores\n",
    "print(\"R2 score on training set : \", gridsearch.score(X_train, Y_train).round(5))\n",
    "print(\"R2 score on test set : \", gridsearch.score(X_test, Y_test).round(5))\n",
    "print('-----------------------------------')\n",
    "#Calculate MSE on training set\n",
    "predictions_train = gridsearch.predict(X_train)\n",
    "mse_train = mean_squared_error(Y_train, predictions_train)\n",
    "\n",
    "# Calculate MSE on test set\n",
    "predictions_test = gridsearch.predict(X_test)\n",
    "mse_test = mean_squared_error(Y_test, predictions_test)\n",
    "\n",
    "print(\"MSE on training set: \", mse_train)\n",
    "print(\"MSE on test set: \", mse_test)"
   ]
  },
  {
   "cell_type": "markdown",
   "metadata": {},
   "source": [
    "--------"
   ]
  },
  {
   "attachments": {},
   "cell_type": "markdown",
   "metadata": {},
   "source": [
    "# <center>__TESTING REGULARIZED LINEAR REGRESSION MODEL: LASSO__</center>\n",
    "<center><i>Least Absolute Shrinkage and Selection Operator</i></center>"
   ]
  },
  {
   "cell_type": "markdown",
   "metadata": {},
   "source": [
    "--------"
   ]
  },
  {
   "cell_type": "markdown",
   "metadata": {},
   "source": [
    "#### __SECTION PLAN__ 🎯\n",
    "\n",
    "1. CROSS-VALIDATED SCORE FOR A LASSO MODEL (with default value of λλ)\n",
    "2. GRID SEARCH: TUNNING λλ  AND NUMBER OF FOLDS\n",
    "3. EVALUATING THE MODEL: PERFORMANCE METRICS"
   ]
  },
  {
   "cell_type": "markdown",
   "metadata": {},
   "source": [
    "--------\n",
    "### __1. CROSS-VALIDATED SCORE FOR A LASSO MODEL (with default value of λλ)__\n",
    "--------"
   ]
  },
  {
   "cell_type": "code",
   "execution_count": 125,
   "metadata": {},
   "outputs": [
    {
     "name": "stdout",
     "output_type": "stream",
     "text": [
      "3-fold cross-validation...\n",
      "The cross-validated R2-score is:  0.61288\n",
      "The standard deviation is:  0.0155\n"
     ]
    }
   ],
   "source": [
    "# Perform 3-fold cross-validation to evaluate the generalized R2 score obtained with a Ridge model\n",
    "print(\"3-fold cross-validation...\")\n",
    "regressor = Lasso()\n",
    "scores = cross_val_score(regressor, X_train, Y_train, cv=3)\n",
    "\n",
    "print('The cross-validated R2-score is: ', scores.mean().round(5))\n",
    "print('The standard deviation is: ', scores.std().round(5))\n"
   ]
  },
  {
   "cell_type": "markdown",
   "metadata": {},
   "source": [
    "--------\n",
    "### __2. GRID SEARCH: TUNNING λλ AND NUMBER OF FOLDS__\n",
    "--------"
   ]
  },
  {
   "cell_type": "code",
   "execution_count": 126,
   "metadata": {},
   "outputs": [
    {
     "name": "stdout",
     "output_type": "stream",
     "text": [
      ">>>> 🟨 Grid search...\n"
     ]
    },
    {
     "name": "stderr",
     "output_type": "stream",
     "text": [
      "c:\\Users\\zouao\\anaconda3\\lib\\site-packages\\sklearn\\model_selection\\_validation.py:686: UserWarning:\n",
      "\n",
      "With alpha=0, this algorithm does not converge well. You are advised to use the LinearRegression estimator\n",
      "\n",
      "c:\\Users\\zouao\\anaconda3\\lib\\site-packages\\sklearn\\linear_model\\_coordinate_descent.py:592: ConvergenceWarning:\n",
      "\n",
      "Objective did not converge. You might want to increase the number of iterations. Duality gap: 379423.5446138846, tolerance: 264.2322651535381\n",
      "\n",
      "c:\\Users\\zouao\\anaconda3\\lib\\site-packages\\sklearn\\model_selection\\_validation.py:686: UserWarning:\n",
      "\n",
      "With alpha=0, this algorithm does not converge well. You are advised to use the LinearRegression estimator\n",
      "\n",
      "c:\\Users\\zouao\\anaconda3\\lib\\site-packages\\sklearn\\linear_model\\_coordinate_descent.py:592: ConvergenceWarning:\n",
      "\n",
      "Objective did not converge. You might want to increase the number of iterations. Duality gap: 384312.3460010405, tolerance: 264.07728528037387\n",
      "\n",
      "c:\\Users\\zouao\\anaconda3\\lib\\site-packages\\sklearn\\model_selection\\_validation.py:686: UserWarning:\n",
      "\n",
      "With alpha=0, this algorithm does not converge well. You are advised to use the LinearRegression estimator\n",
      "\n",
      "c:\\Users\\zouao\\anaconda3\\lib\\site-packages\\sklearn\\linear_model\\_coordinate_descent.py:592: ConvergenceWarning:\n",
      "\n",
      "Objective did not converge. You might want to increase the number of iterations. Duality gap: 401322.8742332639, tolerance: 266.28192052736983\n",
      "\n",
      "c:\\Users\\zouao\\anaconda3\\lib\\site-packages\\sklearn\\model_selection\\_validation.py:686: UserWarning:\n",
      "\n",
      "With alpha=0, this algorithm does not converge well. You are advised to use the LinearRegression estimator\n",
      "\n",
      "c:\\Users\\zouao\\anaconda3\\lib\\site-packages\\sklearn\\linear_model\\_coordinate_descent.py:592: ConvergenceWarning:\n",
      "\n",
      "Objective did not converge. You might want to increase the number of iterations. Duality gap: 384874.9517824652, tolerance: 260.6362972963952\n",
      "\n",
      "c:\\Users\\zouao\\anaconda3\\lib\\site-packages\\sklearn\\model_selection\\_validation.py:686: UserWarning:\n",
      "\n",
      "With alpha=0, this algorithm does not converge well. You are advised to use the LinearRegression estimator\n",
      "\n",
      "c:\\Users\\zouao\\anaconda3\\lib\\site-packages\\sklearn\\linear_model\\_coordinate_descent.py:592: ConvergenceWarning:\n",
      "\n",
      "Objective did not converge. You might want to increase the number of iterations. Duality gap: 395038.66424918664, tolerance: 267.4866065086783\n",
      "\n",
      "c:\\Users\\zouao\\anaconda3\\lib\\site-packages\\sklearn\\model_selection\\_search.py:909: UserWarning:\n",
      "\n",
      "With alpha=0, this algorithm does not converge well. You are advised to use the LinearRegression estimator\n",
      "\n"
     ]
    },
    {
     "name": "stdout",
     "output_type": "stream",
     "text": [
      "Best hyperparameters :  {'alpha': 0.0}\n",
      "Best R2 score :  0.6964\n",
      "--------------------------------------------------------------\n",
      "The cross-validated R2-score is:  0.61288\n",
      "The standard deviation is:  0.0155\n",
      ">>>> ✅ ...Done\n"
     ]
    },
    {
     "name": "stderr",
     "output_type": "stream",
     "text": [
      "c:\\Users\\zouao\\anaconda3\\lib\\site-packages\\sklearn\\linear_model\\_coordinate_descent.py:592: ConvergenceWarning:\n",
      "\n",
      "Objective did not converge. You might want to increase the number of iterations. Duality gap: 487724.8065426045, tolerance: 330.71937303070763\n",
      "\n"
     ]
    }
   ],
   "source": [
    "# Perform grid search\n",
    "print('>>>> 🟨 Grid search...')\n",
    "regressor = Lasso()\n",
    "\n",
    "# Grid of values to be tested\n",
    "params = {\n",
    "    'alpha': [0.0, 0.1, 0.5, 1] # 0 corresponds to no regularization\n",
    "}\n",
    "gridsearch = GridSearchCV(regressor, param_grid = params, cv = 5) # cv : the number of folds to be used for CV\n",
    "gridsearch.fit(X_train, Y_train)\n",
    "print(\"Best hyperparameters : \", gridsearch.best_params_)\n",
    "print(\"Best R2 score : \", gridsearch.best_score_.round(5))\n",
    "print('--------------------------------------------------------------')\n",
    "print('The cross-validated R2-score is: ', scores.mean().round(5))\n",
    "print('The standard deviation is: ', scores.std().round(5))\n",
    "print('>>>> ✅ ...Done')"
   ]
  },
  {
   "cell_type": "markdown",
   "metadata": {},
   "source": [
    "--------\n",
    "### __3. EVALUATING THE MODEL: PERFORMANCE METRICS__\n",
    "--------"
   ]
  },
  {
   "cell_type": "code",
   "execution_count": 127,
   "metadata": {},
   "outputs": [
    {
     "name": "stdout",
     "output_type": "stream",
     "text": [
      "-----------------------------------\n",
      "R2 score on training set :  0.70505\n",
      "R2 score on test set :  0.71318\n",
      "-----------------------------------\n",
      "MSE on training set:  260.46718640459403\n",
      "MSE on test set:  258.75798374314354\n"
     ]
    }
   ],
   "source": [
    "print('-----------------------------------')\n",
    "# Print R^2 scores\n",
    "print(\"R2 score on training set : \", gridsearch.score(X_train, Y_train).round(5))\n",
    "print(\"R2 score on test set : \", gridsearch.score(X_test, Y_test).round(5))\n",
    "print('-----------------------------------')\n",
    "#Calculate MSE on training set\n",
    "predictions_train = gridsearch.predict(X_train)\n",
    "mse_train = mean_squared_error(Y_train, predictions_train)\n",
    "\n",
    "# Calculate MSE on test set\n",
    "predictions_test = gridsearch.predict(X_test)\n",
    "mse_test = mean_squared_error(Y_test, predictions_test)\n",
    "\n",
    "print(\"MSE on training set: \", mse_train)\n",
    "print(\"MSE on test set: \", mse_test)"
   ]
  },
  {
   "cell_type": "markdown",
   "metadata": {},
   "source": [
    "__`NOTEBOOK END`__"
   ]
  }
 ],
 "metadata": {
  "kernelspec": {
   "display_name": "base",
   "language": "python",
   "name": "python3"
  },
  "language_info": {
   "codemirror_mode": {
    "name": "ipython",
    "version": 3
   },
   "file_extension": ".py",
   "mimetype": "text/x-python",
   "name": "python",
   "nbconvert_exporter": "python",
   "pygments_lexer": "ipython3",
   "version": "3.10.9"
  },
  "orig_nbformat": 4
 },
 "nbformat": 4,
 "nbformat_minor": 2
}
