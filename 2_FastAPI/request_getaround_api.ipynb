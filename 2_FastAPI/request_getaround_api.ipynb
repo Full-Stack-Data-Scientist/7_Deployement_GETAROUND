{
 "cells": [
  {
   "cell_type": "code",
   "execution_count": 1,
   "metadata": {},
   "outputs": [],
   "source": [
    "import requests"
   ]
  },
  {
   "cell_type": "code",
   "execution_count": 3,
   "metadata": {},
   "outputs": [
    {
     "name": "stdout",
     "output_type": "stream",
     "text": [
      "{'The suggested optimum price for this rental is': 143.79}\n"
     ]
    }
   ],
   "source": [
    "response = requests.post('https://fastapi-getaround.herokuapp.com/predict', json={\n",
    "    \"model_key\": \"Citroën\",\n",
    "    \"mileage\": 9841,\n",
    "    \"engine_power\": 100,\n",
    "    \"fuel\": \"diesel\",\n",
    "    \"paint_color\": \"black\",\n",
    "    \"car_type\": \"estate\",\n",
    "    \"private_parking_available\": True,\n",
    "    \"has_gps\": True,\n",
    "    \"has_air_conditioning\": True,\n",
    "    \"automatic_car\": True,\n",
    "    \"has_getaround_connect\": True,\n",
    "    \"has_speed_regulator\": True,\n",
    "    \"winter_tires\": True\n",
    "})\n",
    "\n",
    "print(response.json())"
   ]
  },
  {
   "cell_type": "code",
   "execution_count": null,
   "metadata": {},
   "outputs": [],
   "source": []
  }
 ],
 "metadata": {
  "kernelspec": {
   "display_name": "base",
   "language": "python",
   "name": "python3"
  },
  "language_info": {
   "codemirror_mode": {
    "name": "ipython",
    "version": 3
   },
   "file_extension": ".py",
   "mimetype": "text/x-python",
   "name": "python",
   "nbconvert_exporter": "python",
   "pygments_lexer": "ipython3",
   "version": "3.10.9"
  },
  "orig_nbformat": 4
 },
 "nbformat": 4,
 "nbformat_minor": 2
}
